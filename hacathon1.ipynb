{
 "cells": [
  {
   "cell_type": "code",
   "execution_count": 161,
   "id": "6ad10b17",
   "metadata": {},
   "outputs": [],
   "source": [
    "#import libraries\n",
    "import pandas as pd\n",
    "import numpy as np\n",
    "import matplotlib.pyplot as plt\n",
    "%matplotlib inline\n",
    "import seaborn as sns\n",
    "from sklearn.preprocessing import StandardScaler\n",
    "from sklearn.preprocessing import MinMaxScaler\n",
    "from sklearn.model_selection import train_test_split\n",
    "from sklearn.linear_model import LogisticRegression\n",
    "from sklearn.metrics import classification_report\n",
    "from sklearn import metrics \n",
    "from sklearn.metrics import confusion_matrix\n",
    "from numpy import mean\n",
    "from numpy import std\n",
    "from sklearn.datasets import make_classification\n",
    "from sklearn.model_selection import cross_val_score\n",
    "from sklearn.model_selection import RepeatedStratifiedKFold\n",
    "import statsmodels.api as sm\n",
    "from sklearn.metrics import roc_curve\n",
    "from sklearn.metrics import auc\n",
    "from sklearn.metrics import roc_auc_score\n",
    "from sklearn.metrics import f1_score\n",
    "from sklearn.metrics import recall_score\n",
    "from sklearn.metrics import accuracy_score\n",
    "from sklearn.ensemble import RandomForestClassifier\n",
    "from imblearn.over_sampling import SMOTE\n",
    "from sklearn import preprocessing\n",
    "from sklearn import utils"
   ]
  },
  {
   "cell_type": "code",
   "execution_count": 113,
   "id": "895a3fb4",
   "metadata": {},
   "outputs": [],
   "source": [
    "# cargar el dataset en un dataframe usando pandas\n",
    "train = pd.read_csv(\"C:/Users/Franco/jm_train.csv\")\n",
    "test = pd.read_csv(\"C:/Users/Franco/jm_X_test.csv\")\n",
    "sample = pd.read_csv(\"C:/Users/Franco/ejemplo_predicciones.csv\")"
   ]
  },
  {
   "cell_type": "markdown",
   "id": "41990294",
   "metadata": {},
   "source": [
    "Evaluar carga"
   ]
  },
  {
   "cell_type": "code",
   "execution_count": 225,
   "id": "347cc68d",
   "metadata": {},
   "outputs": [
    {
     "data": {
      "text/html": [
       "<div>\n",
       "<style scoped>\n",
       "    .dataframe tbody tr th:only-of-type {\n",
       "        vertical-align: middle;\n",
       "    }\n",
       "\n",
       "    .dataframe tbody tr th {\n",
       "        vertical-align: top;\n",
       "    }\n",
       "\n",
       "    .dataframe thead th {\n",
       "        text-align: right;\n",
       "    }\n",
       "</style>\n",
       "<table border=\"1\" class=\"dataframe\">\n",
       "  <thead>\n",
       "    <tr style=\"text-align: right;\">\n",
       "      <th></th>\n",
       "      <th>feature1</th>\n",
       "      <th>feature2</th>\n",
       "      <th>feature3</th>\n",
       "      <th>feature4</th>\n",
       "      <th>feature5</th>\n",
       "      <th>feature6</th>\n",
       "      <th>target</th>\n",
       "    </tr>\n",
       "  </thead>\n",
       "  <tbody>\n",
       "    <tr>\n",
       "      <th>2095</th>\n",
       "      <td>-0.947002</td>\n",
       "      <td>0.174969</td>\n",
       "      <td>-0.180249</td>\n",
       "      <td>0.118236</td>\n",
       "      <td>-0.143420</td>\n",
       "      <td>-0.359509</td>\n",
       "      <td>0</td>\n",
       "    </tr>\n",
       "    <tr>\n",
       "      <th>2096</th>\n",
       "      <td>-1.224148</td>\n",
       "      <td>0.029956</td>\n",
       "      <td>0.536684</td>\n",
       "      <td>0.888406</td>\n",
       "      <td>0.119460</td>\n",
       "      <td>0.378946</td>\n",
       "      <td>1</td>\n",
       "    </tr>\n",
       "    <tr>\n",
       "      <th>2097</th>\n",
       "      <td>-0.847593</td>\n",
       "      <td>1.538574</td>\n",
       "      <td>0.962409</td>\n",
       "      <td>1.966467</td>\n",
       "      <td>0.379934</td>\n",
       "      <td>0.737907</td>\n",
       "      <td>3</td>\n",
       "    </tr>\n",
       "    <tr>\n",
       "      <th>2098</th>\n",
       "      <td>1.472437</td>\n",
       "      <td>1.187695</td>\n",
       "      <td>1.015766</td>\n",
       "      <td>-1.103522</td>\n",
       "      <td>1.586722</td>\n",
       "      <td>0.182569</td>\n",
       "      <td>4</td>\n",
       "    </tr>\n",
       "    <tr>\n",
       "      <th>2099</th>\n",
       "      <td>-0.083489</td>\n",
       "      <td>-1.194784</td>\n",
       "      <td>-0.389204</td>\n",
       "      <td>-2.369081</td>\n",
       "      <td>0.382413</td>\n",
       "      <td>-0.900237</td>\n",
       "      <td>3</td>\n",
       "    </tr>\n",
       "  </tbody>\n",
       "</table>\n",
       "</div>"
      ],
      "text/plain": [
       "      feature1  feature2  feature3  feature4  feature5  feature6  target\n",
       "2095 -0.947002  0.174969 -0.180249  0.118236 -0.143420 -0.359509       0\n",
       "2096 -1.224148  0.029956  0.536684  0.888406  0.119460  0.378946       1\n",
       "2097 -0.847593  1.538574  0.962409  1.966467  0.379934  0.737907       3\n",
       "2098  1.472437  1.187695  1.015766 -1.103522  1.586722  0.182569       4\n",
       "2099 -0.083489 -1.194784 -0.389204 -2.369081  0.382413 -0.900237       3"
      ]
     },
     "execution_count": 225,
     "metadata": {},
     "output_type": "execute_result"
    }
   ],
   "source": [
    "train.tail(5)"
   ]
  },
  {
   "cell_type": "code",
   "execution_count": 226,
   "id": "d8e69b9b",
   "metadata": {},
   "outputs": [
    {
     "data": {
      "text/html": [
       "<div>\n",
       "<style scoped>\n",
       "    .dataframe tbody tr th:only-of-type {\n",
       "        vertical-align: middle;\n",
       "    }\n",
       "\n",
       "    .dataframe tbody tr th {\n",
       "        vertical-align: top;\n",
       "    }\n",
       "\n",
       "    .dataframe thead th {\n",
       "        text-align: right;\n",
       "    }\n",
       "</style>\n",
       "<table border=\"1\" class=\"dataframe\">\n",
       "  <thead>\n",
       "    <tr style=\"text-align: right;\">\n",
       "      <th></th>\n",
       "      <th>feature1</th>\n",
       "      <th>feature2</th>\n",
       "      <th>feature3</th>\n",
       "      <th>feature4</th>\n",
       "      <th>feature5</th>\n",
       "      <th>feature6</th>\n",
       "    </tr>\n",
       "  </thead>\n",
       "  <tbody>\n",
       "    <tr>\n",
       "      <th>895</th>\n",
       "      <td>0.196663</td>\n",
       "      <td>-0.866822</td>\n",
       "      <td>-1.132836</td>\n",
       "      <td>-0.700726</td>\n",
       "      <td>-0.886717</td>\n",
       "      <td>-0.680351</td>\n",
       "    </tr>\n",
       "    <tr>\n",
       "      <th>896</th>\n",
       "      <td>1.306644</td>\n",
       "      <td>0.543675</td>\n",
       "      <td>0.555275</td>\n",
       "      <td>-0.518374</td>\n",
       "      <td>0.796236</td>\n",
       "      <td>0.297632</td>\n",
       "    </tr>\n",
       "    <tr>\n",
       "      <th>897</th>\n",
       "      <td>-1.009089</td>\n",
       "      <td>0.359536</td>\n",
       "      <td>-2.253087</td>\n",
       "      <td>0.125687</td>\n",
       "      <td>-1.881437</td>\n",
       "      <td>-1.704497</td>\n",
       "    </tr>\n",
       "    <tr>\n",
       "      <th>898</th>\n",
       "      <td>-0.339431</td>\n",
       "      <td>-0.560891</td>\n",
       "      <td>-0.256911</td>\n",
       "      <td>-1.576351</td>\n",
       "      <td>0.317480</td>\n",
       "      <td>-0.742085</td>\n",
       "    </tr>\n",
       "    <tr>\n",
       "      <th>899</th>\n",
       "      <td>1.610331</td>\n",
       "      <td>0.260853</td>\n",
       "      <td>-0.691291</td>\n",
       "      <td>-1.572666</td>\n",
       "      <td>0.096514</td>\n",
       "      <td>-0.750690</td>\n",
       "    </tr>\n",
       "  </tbody>\n",
       "</table>\n",
       "</div>"
      ],
      "text/plain": [
       "     feature1  feature2  feature3  feature4  feature5  feature6\n",
       "895  0.196663 -0.866822 -1.132836 -0.700726 -0.886717 -0.680351\n",
       "896  1.306644  0.543675  0.555275 -0.518374  0.796236  0.297632\n",
       "897 -1.009089  0.359536 -2.253087  0.125687 -1.881437 -1.704497\n",
       "898 -0.339431 -0.560891 -0.256911 -1.576351  0.317480 -0.742085\n",
       "899  1.610331  0.260853 -0.691291 -1.572666  0.096514 -0.750690"
      ]
     },
     "execution_count": 226,
     "metadata": {},
     "output_type": "execute_result"
    }
   ],
   "source": [
    "test.tail(5)"
   ]
  },
  {
   "cell_type": "code",
   "execution_count": 227,
   "id": "f9c61480",
   "metadata": {},
   "outputs": [
    {
     "data": {
      "text/html": [
       "<div>\n",
       "<style scoped>\n",
       "    .dataframe tbody tr th:only-of-type {\n",
       "        vertical-align: middle;\n",
       "    }\n",
       "\n",
       "    .dataframe tbody tr th {\n",
       "        vertical-align: top;\n",
       "    }\n",
       "\n",
       "    .dataframe thead th {\n",
       "        text-align: right;\n",
       "    }\n",
       "</style>\n",
       "<table border=\"1\" class=\"dataframe\">\n",
       "  <thead>\n",
       "    <tr style=\"text-align: right;\">\n",
       "      <th></th>\n",
       "      <th>final_status</th>\n",
       "    </tr>\n",
       "  </thead>\n",
       "  <tbody>\n",
       "    <tr>\n",
       "      <th>25</th>\n",
       "      <td>0</td>\n",
       "    </tr>\n",
       "    <tr>\n",
       "      <th>26</th>\n",
       "      <td>1</td>\n",
       "    </tr>\n",
       "    <tr>\n",
       "      <th>27</th>\n",
       "      <td>1</td>\n",
       "    </tr>\n",
       "    <tr>\n",
       "      <th>28</th>\n",
       "      <td>0</td>\n",
       "    </tr>\n",
       "    <tr>\n",
       "      <th>29</th>\n",
       "      <td>1</td>\n",
       "    </tr>\n",
       "  </tbody>\n",
       "</table>\n",
       "</div>"
      ],
      "text/plain": [
       "    final_status\n",
       "25             0\n",
       "26             1\n",
       "27             1\n",
       "28             0\n",
       "29             1"
      ]
     },
     "execution_count": 227,
     "metadata": {},
     "output_type": "execute_result"
    }
   ],
   "source": [
    "sample.tail(5)"
   ]
  },
  {
   "cell_type": "code",
   "execution_count": 228,
   "id": "da2c6ade",
   "metadata": {},
   "outputs": [
    {
     "name": "stdout",
     "output_type": "stream",
     "text": [
      "<class 'pandas.core.frame.DataFrame'>\n",
      "RangeIndex: 2100 entries, 0 to 2099\n",
      "Data columns (total 7 columns):\n",
      " #   Column    Non-Null Count  Dtype  \n",
      "---  ------    --------------  -----  \n",
      " 0   feature1  2100 non-null   float64\n",
      " 1   feature2  2100 non-null   float64\n",
      " 2   feature3  2100 non-null   float64\n",
      " 3   feature4  2100 non-null   float64\n",
      " 4   feature5  2100 non-null   float64\n",
      " 5   feature6  2100 non-null   float64\n",
      " 6   target    2100 non-null   int64  \n",
      "dtypes: float64(6), int64(1)\n",
      "memory usage: 115.0 KB\n"
     ]
    }
   ],
   "source": [
    "train.info()"
   ]
  },
  {
   "cell_type": "code",
   "execution_count": 229,
   "id": "82f202a3",
   "metadata": {},
   "outputs": [
    {
     "name": "stdout",
     "output_type": "stream",
     "text": [
      "<class 'pandas.core.frame.DataFrame'>\n",
      "RangeIndex: 900 entries, 0 to 899\n",
      "Data columns (total 6 columns):\n",
      " #   Column    Non-Null Count  Dtype  \n",
      "---  ------    --------------  -----  \n",
      " 0   feature1  900 non-null    float64\n",
      " 1   feature2  900 non-null    float64\n",
      " 2   feature3  900 non-null    float64\n",
      " 3   feature4  900 non-null    float64\n",
      " 4   feature5  900 non-null    float64\n",
      " 5   feature6  900 non-null    float64\n",
      "dtypes: float64(6)\n",
      "memory usage: 42.3 KB\n"
     ]
    }
   ],
   "source": [
    "test.info()"
   ]
  },
  {
   "cell_type": "markdown",
   "id": "ab61e61b",
   "metadata": {},
   "source": [
    "Verificar data si existen datos nulos"
   ]
  },
  {
   "cell_type": "code",
   "execution_count": 230,
   "id": "b48709ab",
   "metadata": {},
   "outputs": [
    {
     "name": "stdout",
     "output_type": "stream",
     "text": [
      "Valores nulos por columna para train\n",
      "feature1    0\n",
      "feature2    0\n",
      "feature3    0\n",
      "feature4    0\n",
      "feature5    0\n",
      "feature6    0\n",
      "target      0\n",
      "dtype: int64\n",
      "--------------------------------------------\n",
      "Valores nulos por columna para test\n",
      "feature1    0\n",
      "feature2    0\n",
      "feature3    0\n",
      "feature4    0\n",
      "feature5    0\n",
      "feature6    0\n",
      "dtype: int64\n"
     ]
    }
   ],
   "source": [
    "# Revisar los valores perdidos\n",
    "#Creamos una función:\n",
    "def num_missing(x):\n",
    "  return sum(x.isnull())\n",
    "\n",
    "#Aplicamos por columna:\n",
    "print (\"Valores nulos por columna para train\")\n",
    "print (train.apply(num_missing, axis=0))\n",
    "print (\"--------------------------------------------\")\n",
    "print (\"Valores nulos por columna para test\")\n",
    "print (test.apply(num_missing, axis=0))"
   ]
  },
  {
   "cell_type": "markdown",
   "id": "64ecfe75",
   "metadata": {},
   "source": [
    "Hallar datos estadisticos:"
   ]
  },
  {
   "cell_type": "code",
   "execution_count": 231,
   "id": "738a9985",
   "metadata": {},
   "outputs": [
    {
     "data": {
      "text/html": [
       "<div>\n",
       "<style scoped>\n",
       "    .dataframe tbody tr th:only-of-type {\n",
       "        vertical-align: middle;\n",
       "    }\n",
       "\n",
       "    .dataframe tbody tr th {\n",
       "        vertical-align: top;\n",
       "    }\n",
       "\n",
       "    .dataframe thead th {\n",
       "        text-align: right;\n",
       "    }\n",
       "</style>\n",
       "<table border=\"1\" class=\"dataframe\">\n",
       "  <thead>\n",
       "    <tr style=\"text-align: right;\">\n",
       "      <th></th>\n",
       "      <th>feature1</th>\n",
       "      <th>feature2</th>\n",
       "      <th>feature3</th>\n",
       "      <th>feature4</th>\n",
       "      <th>feature5</th>\n",
       "      <th>feature6</th>\n",
       "      <th>target</th>\n",
       "    </tr>\n",
       "  </thead>\n",
       "  <tbody>\n",
       "    <tr>\n",
       "      <th>count</th>\n",
       "      <td>2100.000000</td>\n",
       "      <td>2100.000000</td>\n",
       "      <td>2100.000000</td>\n",
       "      <td>2100.000000</td>\n",
       "      <td>2100.000000</td>\n",
       "      <td>2100.000000</td>\n",
       "      <td>2100.000000</td>\n",
       "    </tr>\n",
       "    <tr>\n",
       "      <th>mean</th>\n",
       "      <td>-0.204656</td>\n",
       "      <td>0.199249</td>\n",
       "      <td>-0.378140</td>\n",
       "      <td>-0.206425</td>\n",
       "      <td>-0.186419</td>\n",
       "      <td>-0.433229</td>\n",
       "      <td>1.980476</td>\n",
       "    </tr>\n",
       "    <tr>\n",
       "      <th>std</th>\n",
       "      <td>1.543613</td>\n",
       "      <td>1.614024</td>\n",
       "      <td>1.450548</td>\n",
       "      <td>1.442225</td>\n",
       "      <td>1.501573</td>\n",
       "      <td>1.188791</td>\n",
       "      <td>1.410537</td>\n",
       "    </tr>\n",
       "    <tr>\n",
       "      <th>min</th>\n",
       "      <td>-6.683655</td>\n",
       "      <td>-5.383371</td>\n",
       "      <td>-6.147055</td>\n",
       "      <td>-5.653594</td>\n",
       "      <td>-5.912521</td>\n",
       "      <td>-4.433189</td>\n",
       "      <td>0.000000</td>\n",
       "    </tr>\n",
       "    <tr>\n",
       "      <th>25%</th>\n",
       "      <td>-1.171340</td>\n",
       "      <td>-0.877386</td>\n",
       "      <td>-1.365990</td>\n",
       "      <td>-1.259403</td>\n",
       "      <td>-1.211685</td>\n",
       "      <td>-1.131944</td>\n",
       "      <td>1.000000</td>\n",
       "    </tr>\n",
       "    <tr>\n",
       "      <th>50%</th>\n",
       "      <td>-0.443868</td>\n",
       "      <td>0.320507</td>\n",
       "      <td>-0.439745</td>\n",
       "      <td>-0.176504</td>\n",
       "      <td>-0.195751</td>\n",
       "      <td>-0.406754</td>\n",
       "      <td>2.000000</td>\n",
       "    </tr>\n",
       "    <tr>\n",
       "      <th>75%</th>\n",
       "      <td>0.890023</td>\n",
       "      <td>1.321430</td>\n",
       "      <td>0.662898</td>\n",
       "      <td>0.866879</td>\n",
       "      <td>0.851843</td>\n",
       "      <td>0.348593</td>\n",
       "      <td>3.000000</td>\n",
       "    </tr>\n",
       "    <tr>\n",
       "      <th>max</th>\n",
       "      <td>4.565547</td>\n",
       "      <td>6.700133</td>\n",
       "      <td>4.157518</td>\n",
       "      <td>4.371912</td>\n",
       "      <td>5.068783</td>\n",
       "      <td>4.016324</td>\n",
       "      <td>4.000000</td>\n",
       "    </tr>\n",
       "  </tbody>\n",
       "</table>\n",
       "</div>"
      ],
      "text/plain": [
       "          feature1     feature2     feature3     feature4     feature5  \\\n",
       "count  2100.000000  2100.000000  2100.000000  2100.000000  2100.000000   \n",
       "mean     -0.204656     0.199249    -0.378140    -0.206425    -0.186419   \n",
       "std       1.543613     1.614024     1.450548     1.442225     1.501573   \n",
       "min      -6.683655    -5.383371    -6.147055    -5.653594    -5.912521   \n",
       "25%      -1.171340    -0.877386    -1.365990    -1.259403    -1.211685   \n",
       "50%      -0.443868     0.320507    -0.439745    -0.176504    -0.195751   \n",
       "75%       0.890023     1.321430     0.662898     0.866879     0.851843   \n",
       "max       4.565547     6.700133     4.157518     4.371912     5.068783   \n",
       "\n",
       "          feature6       target  \n",
       "count  2100.000000  2100.000000  \n",
       "mean     -0.433229     1.980476  \n",
       "std       1.188791     1.410537  \n",
       "min      -4.433189     0.000000  \n",
       "25%      -1.131944     1.000000  \n",
       "50%      -0.406754     2.000000  \n",
       "75%       0.348593     3.000000  \n",
       "max       4.016324     4.000000  "
      ]
     },
     "execution_count": 231,
     "metadata": {},
     "output_type": "execute_result"
    }
   ],
   "source": [
    "train.describe()"
   ]
  },
  {
   "cell_type": "code",
   "execution_count": 232,
   "id": "a70f22f9",
   "metadata": {},
   "outputs": [
    {
     "data": {
      "text/html": [
       "<div>\n",
       "<style scoped>\n",
       "    .dataframe tbody tr th:only-of-type {\n",
       "        vertical-align: middle;\n",
       "    }\n",
       "\n",
       "    .dataframe tbody tr th {\n",
       "        vertical-align: top;\n",
       "    }\n",
       "\n",
       "    .dataframe thead th {\n",
       "        text-align: right;\n",
       "    }\n",
       "</style>\n",
       "<table border=\"1\" class=\"dataframe\">\n",
       "  <thead>\n",
       "    <tr style=\"text-align: right;\">\n",
       "      <th></th>\n",
       "      <th>feature1</th>\n",
       "      <th>feature2</th>\n",
       "      <th>feature3</th>\n",
       "      <th>feature4</th>\n",
       "      <th>feature5</th>\n",
       "      <th>feature6</th>\n",
       "    </tr>\n",
       "  </thead>\n",
       "  <tbody>\n",
       "    <tr>\n",
       "      <th>count</th>\n",
       "      <td>900.000000</td>\n",
       "      <td>900.000000</td>\n",
       "      <td>900.000000</td>\n",
       "      <td>900.000000</td>\n",
       "      <td>900.000000</td>\n",
       "      <td>900.000000</td>\n",
       "    </tr>\n",
       "    <tr>\n",
       "      <th>mean</th>\n",
       "      <td>-0.170339</td>\n",
       "      <td>0.135481</td>\n",
       "      <td>-0.447035</td>\n",
       "      <td>-0.201708</td>\n",
       "      <td>-0.263349</td>\n",
       "      <td>-0.445490</td>\n",
       "    </tr>\n",
       "    <tr>\n",
       "      <th>std</th>\n",
       "      <td>1.485402</td>\n",
       "      <td>1.547202</td>\n",
       "      <td>1.394437</td>\n",
       "      <td>1.487102</td>\n",
       "      <td>1.450823</td>\n",
       "      <td>1.215000</td>\n",
       "    </tr>\n",
       "    <tr>\n",
       "      <th>min</th>\n",
       "      <td>-5.084203</td>\n",
       "      <td>-4.292548</td>\n",
       "      <td>-4.628992</td>\n",
       "      <td>-6.732089</td>\n",
       "      <td>-5.196997</td>\n",
       "      <td>-4.823971</td>\n",
       "    </tr>\n",
       "    <tr>\n",
       "      <th>25%</th>\n",
       "      <td>-1.098759</td>\n",
       "      <td>-0.934171</td>\n",
       "      <td>-1.460497</td>\n",
       "      <td>-1.163163</td>\n",
       "      <td>-1.182667</td>\n",
       "      <td>-1.152891</td>\n",
       "    </tr>\n",
       "    <tr>\n",
       "      <th>50%</th>\n",
       "      <td>-0.386297</td>\n",
       "      <td>0.341427</td>\n",
       "      <td>-0.464239</td>\n",
       "      <td>-0.177710</td>\n",
       "      <td>-0.233699</td>\n",
       "      <td>-0.410182</td>\n",
       "    </tr>\n",
       "    <tr>\n",
       "      <th>75%</th>\n",
       "      <td>0.881170</td>\n",
       "      <td>1.246296</td>\n",
       "      <td>0.626893</td>\n",
       "      <td>0.870332</td>\n",
       "      <td>0.679282</td>\n",
       "      <td>0.399597</td>\n",
       "    </tr>\n",
       "    <tr>\n",
       "      <th>max</th>\n",
       "      <td>4.636012</td>\n",
       "      <td>4.612113</td>\n",
       "      <td>3.299946</td>\n",
       "      <td>5.996929</td>\n",
       "      <td>3.917118</td>\n",
       "      <td>5.357953</td>\n",
       "    </tr>\n",
       "  </tbody>\n",
       "</table>\n",
       "</div>"
      ],
      "text/plain": [
       "         feature1    feature2    feature3    feature4    feature5    feature6\n",
       "count  900.000000  900.000000  900.000000  900.000000  900.000000  900.000000\n",
       "mean    -0.170339    0.135481   -0.447035   -0.201708   -0.263349   -0.445490\n",
       "std      1.485402    1.547202    1.394437    1.487102    1.450823    1.215000\n",
       "min     -5.084203   -4.292548   -4.628992   -6.732089   -5.196997   -4.823971\n",
       "25%     -1.098759   -0.934171   -1.460497   -1.163163   -1.182667   -1.152891\n",
       "50%     -0.386297    0.341427   -0.464239   -0.177710   -0.233699   -0.410182\n",
       "75%      0.881170    1.246296    0.626893    0.870332    0.679282    0.399597\n",
       "max      4.636012    4.612113    3.299946    5.996929    3.917118    5.357953"
      ]
     },
     "execution_count": 232,
     "metadata": {},
     "output_type": "execute_result"
    }
   ],
   "source": [
    "test.describe()"
   ]
  },
  {
   "cell_type": "markdown",
   "id": "8520979b",
   "metadata": {},
   "source": [
    "Grafico cruzado del train"
   ]
  },
  {
   "cell_type": "code",
   "execution_count": 233,
   "id": "e7eedbca",
   "metadata": {},
   "outputs": [
    {
     "data": {
      "text/plain": [
       "<AxesSubplot:>"
      ]
     },
     "execution_count": 233,
     "metadata": {},
     "output_type": "execute_result"
    },
    {
     "data": {
      "image/png": "[encoded data removed]",
      "text/plain": [
       "<Figure size 576x432 with 2 Axes>"
      ]
     },
     "metadata": {
      "needs_background": "light"
     },
     "output_type": "display_data"
    }
   ],
   "source": [
    "plt.figure(figsize=(8,6))\n",
    "sns.heatmap(train.corr(), annot=True)"
   ]
  },
  {
   "cell_type": "markdown",
   "id": "b1181ac2",
   "metadata": {},
   "source": [
    "Nombrar los valores (Features) y los resultados (Train_labes):"
   ]
  },
  {
   "cell_type": "code",
   "execution_count": 234,
   "id": "2ddbc9af",
   "metadata": {},
   "outputs": [],
   "source": [
    "#set up features\n",
    "features=['feature1', 'feature2', 'feature3', 'feature4', 'feature5','feature6']\n",
    "\n",
    "train_labels = np.array(train.target.values.reshape(-1, 1), dtype=np.float32)"
   ]
  },
  {
   "cell_type": "markdown",
   "id": "f6932152",
   "metadata": {},
   "source": [
    "Definir los valores X , X_test e y : "
   ]
  },
  {
   "cell_type": "code",
   "execution_count": 235,
   "id": "b5b5ffe2",
   "metadata": {},
   "outputs": [],
   "source": [
    "X=train[features]\n",
    "y=train_labels\n",
    "X_test=test[features]"
   ]
  },
  {
   "cell_type": "markdown",
   "id": "10693827",
   "metadata": {},
   "source": [
    "Ajustar los valores con MinMaxScaler :"
   ]
  },
  {
   "cell_type": "code",
   "execution_count": 236,
   "id": "6272629e",
   "metadata": {},
   "outputs": [],
   "source": [
    "#scale x, y and x_test\n",
    "mm = MinMaxScaler()\n",
    "X=mm.fit_transform(X)\n",
    "y=mm.fit_transform(y)\n",
    "X_test=mm.fit_transform(X_test)"
   ]
  },
  {
   "cell_type": "markdown",
   "id": "5de5bbe0",
   "metadata": {},
   "source": [
    "Reprocesar el valor de y con labelencoder (multiclas):"
   ]
  },
  {
   "cell_type": "code",
   "execution_count": 238,
   "id": "ccfa952d",
   "metadata": {},
   "outputs": [
    {
     "name": "stderr",
     "output_type": "stream",
     "text": [
      "C:\\Users\\Franco\\anaconda3\\lib\\site-packages\\sklearn\\utils\\validation.py:63: DataConversionWarning: A column-vector y was passed when a 1d array was expected. Please change the shape of y to (n_samples, ), for example using ravel().\n",
      "  return f(*args, **kwargs)\n"
     ]
    }
   ],
   "source": [
    "lab_enc = preprocessing.LabelEncoder()\n",
    "y2 = lab_enc.fit_transform(y)\n"
   ]
  },
  {
   "cell_type": "markdown",
   "id": "8f42dd3d",
   "metadata": {},
   "source": [
    "Ajustar la informacion con SMOTE"
   ]
  },
  {
   "cell_type": "code",
   "execution_count": 239,
   "id": "b194f664",
   "metadata": {},
   "outputs": [],
   "source": [
    "from imblearn.over_sampling import SMOTE, ADASYN\n",
    "\n",
    "X_resampled, y_resampled = SMOTE().fit_resample(X, y2)\n"
   ]
  },
  {
   "cell_type": "markdown",
   "id": "0e21dc19",
   "metadata": {},
   "source": [
    "Separar el data train del data test con un 30% de test:"
   ]
  },
  {
   "cell_type": "code",
   "execution_count": 240,
   "id": "457f4c96",
   "metadata": {},
   "outputs": [],
   "source": [
    "from sklearn.model_selection import train_test_split\n",
    "X_train, X_test, y_train, y_test = train_test_split(X,# Covariables\n",
    "                                                    y2,             # Target\n",
    "                                                    test_size=0.30,                               # Tamano del test\n",
    "                                                    #stratify=train_parametrica['target'],    # Estratificacion\n",
    "                                                   random_state=1)"
   ]
  },
  {
   "cell_type": "code",
   "execution_count": 241,
   "id": "34baac8a",
   "metadata": {},
   "outputs": [
    {
     "data": {
      "text/plain": [
       "((1470, 6), (630, 6), (1470,), (630,))"
      ]
     },
     "execution_count": 241,
     "metadata": {},
     "output_type": "execute_result"
    }
   ],
   "source": [
    "X_train.shape, X_test.shape, y_train.shape, y_test.shape"
   ]
  },
  {
   "cell_type": "markdown",
   "id": "ed18ca08",
   "metadata": {},
   "source": [
    "Aplicar randomforesclasificador:"
   ]
  },
  {
   "cell_type": "code",
   "execution_count": 242,
   "id": "5c59bc7e",
   "metadata": {},
   "outputs": [],
   "source": [
    "from sklearn.ensemble import RandomForestClassifier\n",
    "rf = RandomForestClassifier(n_estimators = 1000,\n",
    "                            criterion = 'entropy',\n",
    "                            random_state = 40)\n",
    "rf.fit(X_train, y_train)\n",
    "y_pred = rf.predict(X_test)"
   ]
  },
  {
   "cell_type": "code",
   "execution_count": 243,
   "id": "6b8a24e3",
   "metadata": {},
   "outputs": [
    {
     "name": "stdout",
     "output_type": "stream",
     "text": [
      "\tAccuracy: 0.786\n",
      "\n",
      "\tf1_score: 0.786\n",
      "\n",
      "\trecall: 0.786\n",
      "\n"
     ]
    }
   ],
   "source": [
    "# scoring\n",
    "print (\"\\tAccuracy: %1.3f\\n\" %accuracy_score(y_test, y_pred))\n",
    "print(\"\\tf1_score: %1.3f\\n\" %f1_score(y_test, y_pred, average='weighted'))\n",
    "print (\"\\trecall: %1.3f\\n\" %recall_score(y_test, y_pred, average='weighted'))"
   ]
  },
  {
   "cell_type": "markdown",
   "id": "94ededc8",
   "metadata": {},
   "source": [
    "Matriz de confusion:"
   ]
  },
  {
   "cell_type": "code",
   "execution_count": 244,
   "id": "090cfb13",
   "metadata": {},
   "outputs": [
    {
     "data": {
      "text/html": [
       "<div>\n",
       "<style scoped>\n",
       "    .dataframe tbody tr th:only-of-type {\n",
       "        vertical-align: middle;\n",
       "    }\n",
       "\n",
       "    .dataframe tbody tr th {\n",
       "        vertical-align: top;\n",
       "    }\n",
       "\n",
       "    .dataframe thead th {\n",
       "        text-align: right;\n",
       "    }\n",
       "</style>\n",
       "<table border=\"1\" class=\"dataframe\">\n",
       "  <thead>\n",
       "    <tr style=\"text-align: right;\">\n",
       "      <th></th>\n",
       "      <th>0</th>\n",
       "      <th>1</th>\n",
       "      <th>2</th>\n",
       "      <th>3</th>\n",
       "      <th>4</th>\n",
       "    </tr>\n",
       "  </thead>\n",
       "  <tbody>\n",
       "    <tr>\n",
       "      <th>0</th>\n",
       "      <td>113</td>\n",
       "      <td>10</td>\n",
       "      <td>11</td>\n",
       "      <td>3</td>\n",
       "      <td>1</td>\n",
       "    </tr>\n",
       "    <tr>\n",
       "      <th>1</th>\n",
       "      <td>5</td>\n",
       "      <td>90</td>\n",
       "      <td>13</td>\n",
       "      <td>9</td>\n",
       "      <td>1</td>\n",
       "    </tr>\n",
       "    <tr>\n",
       "      <th>2</th>\n",
       "      <td>5</td>\n",
       "      <td>13</td>\n",
       "      <td>89</td>\n",
       "      <td>7</td>\n",
       "      <td>10</td>\n",
       "    </tr>\n",
       "    <tr>\n",
       "      <th>3</th>\n",
       "      <td>1</td>\n",
       "      <td>11</td>\n",
       "      <td>7</td>\n",
       "      <td>105</td>\n",
       "      <td>11</td>\n",
       "    </tr>\n",
       "    <tr>\n",
       "      <th>4</th>\n",
       "      <td>4</td>\n",
       "      <td>1</td>\n",
       "      <td>7</td>\n",
       "      <td>5</td>\n",
       "      <td>98</td>\n",
       "    </tr>\n",
       "  </tbody>\n",
       "</table>\n",
       "</div>"
      ],
      "text/plain": [
       "     0   1   2    3   4\n",
       "0  113  10  11    3   1\n",
       "1    5  90  13    9   1\n",
       "2    5  13  89    7  10\n",
       "3    1  11   7  105  11\n",
       "4    4   1   7    5  98"
      ]
     },
     "execution_count": 244,
     "metadata": {},
     "output_type": "execute_result"
    }
   ],
   "source": [
    "confmtrx = np.array(confusion_matrix(y_test, y_pred))\n",
    "pd.DataFrame(confmtrx, index=['0','1','2', '3','4'],\n",
    "columns=['0','1','2', '3','4'])"
   ]
  },
  {
   "cell_type": "markdown",
   "id": "3e179b17",
   "metadata": {},
   "source": [
    "Accuracy statistics:"
   ]
  },
  {
   "cell_type": "code",
   "execution_count": 245,
   "id": "42580df4",
   "metadata": {},
   "outputs": [
    {
     "name": "stdout",
     "output_type": "stream",
     "text": [
      "Accuracy Score: 0.7857142857142857\n",
      "              precision    recall  f1-score   support\n",
      "\n",
      "           0       0.88      0.82      0.85       138\n",
      "           1       0.72      0.76      0.74       118\n",
      "           2       0.70      0.72      0.71       124\n",
      "           3       0.81      0.78      0.80       135\n",
      "           4       0.81      0.85      0.83       115\n",
      "\n",
      "    accuracy                           0.79       630\n",
      "   macro avg       0.79      0.79      0.79       630\n",
      "weighted avg       0.79      0.79      0.79       630\n",
      "\n"
     ]
    }
   ],
   "source": [
    "print('Accuracy Score:', metrics.accuracy_score(y_test, y_pred))  \n",
    "class_report=classification_report(y_test, y_pred)\n",
    "print(class_report)"
   ]
  },
  {
   "cell_type": "markdown",
   "id": "abbe4d10",
   "metadata": {},
   "source": [
    "Presdicion en la data test:"
   ]
  },
  {
   "cell_type": "code",
   "execution_count": 246,
   "id": "728e8c8f",
   "metadata": {},
   "outputs": [],
   "source": [
    "predictions = rf.predict(X_test)"
   ]
  },
  {
   "cell_type": "markdown",
   "id": "8f0479cf",
   "metadata": {},
   "source": [
    "Carga de resultados:"
   ]
  },
  {
   "cell_type": "code",
   "execution_count": 247,
   "id": "73e4a16f",
   "metadata": {},
   "outputs": [
    {
     "data": {
      "text/html": [
       "<div>\n",
       "<style scoped>\n",
       "    .dataframe tbody tr th:only-of-type {\n",
       "        vertical-align: middle;\n",
       "    }\n",
       "\n",
       "    .dataframe tbody tr th {\n",
       "        vertical-align: top;\n",
       "    }\n",
       "\n",
       "    .dataframe thead th {\n",
       "        text-align: right;\n",
       "    }\n",
       "</style>\n",
       "<table border=\"1\" class=\"dataframe\">\n",
       "  <thead>\n",
       "    <tr style=\"text-align: right;\">\n",
       "      <th></th>\n",
       "      <th>final_status</th>\n",
       "    </tr>\n",
       "  </thead>\n",
       "  <tbody>\n",
       "    <tr>\n",
       "      <th>0</th>\n",
       "      <td>2</td>\n",
       "    </tr>\n",
       "    <tr>\n",
       "      <th>1</th>\n",
       "      <td>2</td>\n",
       "    </tr>\n",
       "    <tr>\n",
       "      <th>2</th>\n",
       "      <td>1</td>\n",
       "    </tr>\n",
       "    <tr>\n",
       "      <th>3</th>\n",
       "      <td>3</td>\n",
       "    </tr>\n",
       "    <tr>\n",
       "      <th>4</th>\n",
       "      <td>1</td>\n",
       "    </tr>\n",
       "    <tr>\n",
       "      <th>...</th>\n",
       "      <td>...</td>\n",
       "    </tr>\n",
       "    <tr>\n",
       "      <th>625</th>\n",
       "      <td>2</td>\n",
       "    </tr>\n",
       "    <tr>\n",
       "      <th>626</th>\n",
       "      <td>3</td>\n",
       "    </tr>\n",
       "    <tr>\n",
       "      <th>627</th>\n",
       "      <td>1</td>\n",
       "    </tr>\n",
       "    <tr>\n",
       "      <th>628</th>\n",
       "      <td>0</td>\n",
       "    </tr>\n",
       "    <tr>\n",
       "      <th>629</th>\n",
       "      <td>2</td>\n",
       "    </tr>\n",
       "  </tbody>\n",
       "</table>\n",
       "<p>630 rows × 1 columns</p>\n",
       "</div>"
      ],
      "text/plain": [
       "     final_status\n",
       "0               2\n",
       "1               2\n",
       "2               1\n",
       "3               3\n",
       "4               1\n",
       "..            ...\n",
       "625             2\n",
       "626             3\n",
       "627             1\n",
       "628             0\n",
       "629             2\n",
       "\n",
       "[630 rows x 1 columns]"
      ]
     },
     "execution_count": 247,
     "metadata": {},
     "output_type": "execute_result"
    }
   ],
   "source": [
    "submission = pd.DataFrame({\n",
    "                \"final_status\": predictions.flatten()\n",
    "    })\n",
    "submission.to_csv('volcanes.csv', index=False)\n",
    "submission"
   ]
  },
  {
   "cell_type": "code",
   "execution_count": null,
   "id": "27a94ddb",
   "metadata": {},
   "outputs": [],
   "source": []
  }
 ],
 "metadata": {
  "kernelspec": {
   "display_name": "Python 3",
   "language": "python",
   "name": "python3"
  },
  "language_info": {
   "codemirror_mode": {
    "name": "ipython",
    "version": 3
   },
   "file_extension": ".py",
   "mimetype": "text/x-python",
   "name": "python",
   "nbconvert_exporter": "python",
   "pygments_lexer": "ipython3",
   "version": "3.8.8"
  }
 },
 "nbformat": 4,
 "nbformat_minor": 5
}
